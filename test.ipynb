{
 "cells": [
  {
   "cell_type": "code",
   "execution_count": 9,
   "id": "c12ea007",
   "metadata": {},
   "outputs": [],
   "source": [
    "import requests\n",
    "import sys"
   ]
  },
  {
   "cell_type": "code",
   "execution_count": 10,
   "id": "2a057cc9",
   "metadata": {},
   "outputs": [],
   "source": [
    "headers = {\"Content-Type\": \"application/json\"}\n",
    "prompt1 = \"\"\"You are a good assistant.\"\"\"\n",
    "input = \"hello world! how are you?\"\n",
    "\n",
    "final_input = f\"<|begin_of_text|><|start_header_id|>system<|end_header_id|>{prompt1}<|eot_id|><|start_header_id|>user<|end_header_id|>{input}<|eot_id|><|start_header_id|>assistant<|end_header_id|>\"  # llama의 기본 포맷\n",
    "payload = {\n",
    "        \"model\": \"ibnzterrell/Meta-Llama-3.3-70B-Instruct-AWQ-INT4\",\n",
    "        \"prompt\": final_input,\n",
    "       \"max_tokens\": \"512\"\n",
    "    }\n",
    "\n",
    "response = requests.post(\"http://114.70.193.164:8001/v1/completions\", json = payload, headers = headers)\n",
    "# 여기 있는 아이피는 모델이 올라와있는 서버의 아이피여야 함"
   ]
  },
  {
   "cell_type": "code",
   "execution_count": 11,
   "id": "2d71c088",
   "metadata": {},
   "outputs": [
    {
     "data": {
      "text/plain": [
       "<Response [200]>"
      ]
     },
     "execution_count": 11,
     "metadata": {},
     "output_type": "execute_result"
    }
   ],
   "source": [
    "response"
   ]
  },
  {
   "cell_type": "code",
   "execution_count": null,
   "id": "d5b219af",
   "metadata": {},
   "outputs": [],
   "source": []
  }
 ],
 "metadata": {
  "kernelspec": {
   "display_name": "base",
   "language": "python",
   "name": "python3"
  },
  "language_info": {
   "codemirror_mode": {
    "name": "ipython",
    "version": 3
   },
   "file_extension": ".py",
   "mimetype": "text/x-python",
   "name": "python",
   "nbconvert_exporter": "python",
   "pygments_lexer": "ipython3",
   "version": "3.13.2"
  }
 },
 "nbformat": 4,
 "nbformat_minor": 5
}
