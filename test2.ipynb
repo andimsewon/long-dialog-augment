{
 "cells": [
  {
   "cell_type": "code",
   "execution_count": null,
   "id": "9d8552b1",
   "metadata": {},
   "outputs": [],
   "source": [
    "import json\n",
    "import requests\n"
   ]
  },
  {
   "cell_type": "code",
   "execution_count": null,
   "id": "83e18c88",
   "metadata": {},
   "outputs": [],
   "source": [
    "with open(\"data/K2-00001-CL33762-CP33206-05-08-S2.json\", \"r\", encoding=\"utf-8\") as f:\n",
    "    raw_data = json.load(f)\n"
   ]
  },
  {
   "cell_type": "code",
   "execution_count": null,
   "id": "3547da51",
   "metadata": {},
   "outputs": [],
   "source": [
    "def build_prompt(data, topic):\n",
    "    session = data[\"sessionInfo\"]\n",
    "\n",
    "    # 프로필 및 페르소나 구성\n",
    "    profile1 = f'{data[\"participantsInfo\"][\"speaker1\"][\"age\"]} {data[\"participantsInfo\"][\"speaker1\"][\"gender\"]}, {data[\"participantsInfo\"][\"speaker1\"][\"occupation\"]}, 출신: {data[\"participantsInfo\"][\"speaker1\"][\"bPlace\"]}'\n",
    "    profile2 = f'{data[\"participantsInfo\"][\"speaker2\"][\"age\"]} {data[\"participantsInfo\"][\"speaker2\"][\"gender\"]}, {data[\"participantsInfo\"][\"speaker2\"][\"occupation\"]}, 출신: {data[\"participantsInfo\"][\"speaker2\"][\"bPlace\"]}'\n",
    "    persona1 = \", \".join(data[\"personaInfo\"][\"clInfo\"][\"personaFeatures\"])\n",
    "    persona2 = \", \".join(data[\"personaInfo\"][\"cpInfo\"][\"personaFeatures\"])\n",
    "\n",
    "    # 대화 이력 구성\n",
    "    turns = []\n",
    "    for s in session:\n",
    "        for d in s[\"dialog\"]:\n",
    "            speaker = d[\"speaker\"]\n",
    "            utterance = d[\"utterance\"]\n",
    "            turns.append(f\"{speaker}: {utterance}\")\n",
    "    dialog_history = \"\\n\".join(turns)\n",
    "\n",
    "    # 최종 프롬프트 구성\n",
    "    prompt = f\"\"\"Topic: {topic}\n",
    "\n",
    "## Speaker 1\n",
    "- Profile: {profile1}\n",
    "- Persona: {persona1}\n",
    "- Style: polite, emotionally expressive\n",
    "\n",
    "## Speaker 2\n",
    "- Profile: {profile2}\n",
    "- Persona: {persona2}\n",
    "- Style: concise, rational\n",
    "\n",
    "## Rules:\n",
    "- Do not restart or summarize. Continue from the last turn.\n",
    "- Use Korean for all dialogue output.\n",
    "- Reflect personalities in tone and word choice.\n",
    "- Avoid politics, religion, or offensive topics.\n",
    "- Encourage friendly, open-ended dialogue.\n",
    "- If possible, end with a natural question or reply hook.\n",
    "\n",
    "## Previous Dialogue:\n",
    "{dialog_history}\n",
    "\n",
    "Write the next 1–2 turns of conversation in Korean like this:\n",
    "speaker1: ...\n",
    "speaker2: ...\"\"\"\n",
    "\n",
    "    return prompt\n"
   ]
  },
  {
   "cell_type": "code",
   "execution_count": null,
   "id": "fb31c7a1",
   "metadata": {},
   "outputs": [],
   "source": [
    "topic = \"편지\"  # 또는 data[\"topicInfo\"][\"topicTitle\"]\n",
    "prompt_input = build_prompt(raw_data, topic)\n",
    "\n",
    "final_input = (\n",
    "    f\"<|begin_of_text|><|start_header_id|>system<|end_header_id|>\"\n",
    "    f\"You are a Korean dialogue generation model. Continue a realistic and coherent long-form conversation between two speakers. Use their profile, personality traits (persona), and previous conversation history to write 1–2 additional turns in Korean. Match each speaker’s tone and perspective. Maintain natural flow and avoid repetition or restarting the dialogue.\"\n",
    "    f\"<|eot_id|><|start_header_id|>user<|end_header_id|>{prompt_input}<|eot_id|>\"\n",
    "    f\"<|start_header_id|>assistant<|end_header_id|>\"\n",
    ")\n",
    "\n"
   ]
  },
  {
   "cell_type": "code",
   "execution_count": null,
   "id": "4973cca3",
   "metadata": {},
   "outputs": [],
   "source": [
    "url = \"http://114.70.193.164:8001/v1/completions\"\n",
    "headers = {\"Content-Type\": \"application/json\"}\n",
    "\n",
    "payload = {\n",
    "    \"model\": \"ibnzterrell/Meta-Llama-3.3-70B-Instruct-AWQ-INT4\",\n",
    "    \"prompt\": final_input,\n",
    "    \"max_tokens\": 512\n",
    "}\n",
    "\n",
    "response = requests.post(url, headers=headers, json=payload)\n",
    "\n",
    "if response.status_code == 200:\n",
    "    result = response.json()\n",
    "    print(result[\"choices\"][0][\"text\"])\n",
    "else:\n",
    "    print(f\"❌ Error {response.status_code}: {response.text}\")\n"
   ]
  },
  {
   "cell_type": "code",
   "execution_count": null,
   "id": "2d1a0784",
   "metadata": {},
   "outputs": [],
   "source": [
    "output = {\n",
    "    \"input_prompt\": prompt_input,\n",
    "    \"llama_response\": result[\"choices\"][0][\"text\"]\n",
    "}\n",
    "\n",
    "with open(\"outputs/augmented/K2-00001-augmented.json\", \"w\", encoding=\"utf-8\") as f:\n",
    "    json.dump(output, f, ensure_ascii=False, indent=2)\n"
   ]
  }
 ],
 "metadata": {
  "language_info": {
   "name": "python"
  }
 },
 "nbformat": 4,
 "nbformat_minor": 5
}
